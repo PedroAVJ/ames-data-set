{
  "metadata": {
    "kernelspec": {
      "language": "python",
      "display_name": "Python 3",
      "name": "python3"
    },
    "language_info": {
      "name": "python",
      "version": "3.10.12",
      "mimetype": "text/x-python",
      "codemirror_mode": {
        "name": "ipython",
        "version": 3
      },
      "pygments_lexer": "ipython3",
      "nbconvert_exporter": "python",
      "file_extension": ".py"
    },
    "kaggle": {
      "accelerator": "none",
      "dataSources": [
        {
          "sourceId": 10211,
          "databundleVersionId": 111096,
          "sourceType": "competition"
        }
      ],
      "dockerImageVersionId": 30558,
      "isInternetEnabled": true,
      "language": "python",
      "sourceType": "notebook",
      "isGpuEnabled": false
    },
    "colab": {
      "provenance": [],
      "include_colab_link": true
    }
  },
  "nbformat_minor": 0,
  "nbformat": 4,
  "cells": [
    {
      "cell_type": "markdown",
      "metadata": {
        "id": "view-in-github",
        "colab_type": "text"
      },
      "source": [
        "<a href=\"https://colab.research.google.com/github/PedroAVJ/ames-data-set/blob/main/notebook858dbd25aa.ipynb\" target=\"_parent\"><img src=\"https://colab.research.google.com/assets/colab-badge.svg\" alt=\"Open In Colab\"/></a>"
      ]
    },
    {
      "cell_type": "markdown",
      "source": [
        "# Preprocessing"
      ],
      "metadata": {
        "id": "OTrg4uveyhja"
      }
    },
    {
      "cell_type": "code",
      "source": [
        "import pandas as pd\n",
        "\n",
        "# Download the datasets from GitHub\n",
        "!wget https://raw.githubusercontent.com/PedroAVJ/ames-data-set/main/train.csv\n",
        "!wget https://raw.githubusercontent.com/PedroAVJ/ames-data-set/main/test.csv\n",
        "!wget https://raw.githubusercontent.com/PedroAVJ/ames-data-set/main/data_description.txt\n",
        "\n",
        "# Load the datasets\n",
        "train = pd.read_csv('train.csv')\n",
        "test = pd.read_csv('test.csv')"
      ],
      "metadata": {
        "execution": {
          "iopub.status.busy": "2023-09-20T01:26:53.820026Z",
          "iopub.execute_input": "2023-09-20T01:26:53.820493Z",
          "iopub.status.idle": "2023-09-20T01:26:54.226667Z",
          "shell.execute_reply.started": "2023-09-20T01:26:53.820455Z",
          "shell.execute_reply": "2023-09-20T01:26:54.225629Z"
        },
        "trusted": true,
        "id": "3fCokoQ1yhjc",
        "colab": {
          "base_uri": "https://localhost:8080/"
        },
        "outputId": "6be66d20-27a5-41a8-de2d-58786b2540b6"
      },
      "execution_count": 1,
      "outputs": [
        {
          "output_type": "stream",
          "name": "stdout",
          "text": [
            "--2024-02-01 19:32:23--  https://raw.githubusercontent.com/PedroAVJ/ames-data-set/main/train.csv\n",
            "Resolving raw.githubusercontent.com (raw.githubusercontent.com)... 185.199.108.133, 185.199.109.133, 185.199.110.133, ...\n",
            "Connecting to raw.githubusercontent.com (raw.githubusercontent.com)|185.199.108.133|:443... connected.\n",
            "HTTP request sent, awaiting response... 200 OK\n",
            "Length: 460676 (450K) [text/plain]\n",
            "Saving to: ‘train.csv.1’\n",
            "\n",
            "\rtrain.csv.1           0%[                    ]       0  --.-KB/s               \rtrain.csv.1         100%[===================>] 449.88K  --.-KB/s    in 0.03s   \n",
            "\n",
            "2024-02-01 19:32:23 (17.5 MB/s) - ‘train.csv.1’ saved [460676/460676]\n",
            "\n",
            "--2024-02-01 19:32:23--  https://raw.githubusercontent.com/PedroAVJ/ames-data-set/main/test.csv\n",
            "Resolving raw.githubusercontent.com (raw.githubusercontent.com)... 185.199.109.133, 185.199.110.133, 185.199.108.133, ...\n",
            "Connecting to raw.githubusercontent.com (raw.githubusercontent.com)|185.199.109.133|:443... connected.\n",
            "HTTP request sent, awaiting response... 200 OK\n",
            "Length: 451405 (441K) [text/plain]\n",
            "Saving to: ‘test.csv.1’\n",
            "\n",
            "test.csv.1          100%[===================>] 440.83K  --.-KB/s    in 0.02s   \n",
            "\n",
            "2024-02-01 19:32:23 (18.9 MB/s) - ‘test.csv.1’ saved [451405/451405]\n",
            "\n",
            "--2024-02-01 19:32:23--  https://raw.githubusercontent.com/PedroAVJ/ames-data-set/main/data_description.txt\n",
            "Resolving raw.githubusercontent.com (raw.githubusercontent.com)... 185.199.108.133, 185.199.109.133, 185.199.110.133, ...\n",
            "Connecting to raw.githubusercontent.com (raw.githubusercontent.com)|185.199.108.133|:443... connected.\n",
            "HTTP request sent, awaiting response... 200 OK\n",
            "Length: 13370 (13K) [text/plain]\n",
            "Saving to: ‘data_description.txt.1’\n",
            "\n",
            "data_description.tx 100%[===================>]  13.06K  --.-KB/s    in 0.001s  \n",
            "\n",
            "2024-02-01 19:32:23 (18.7 MB/s) - ‘data_description.txt.1’ saved [13370/13370]\n",
            "\n"
          ]
        }
      ]
    },
    {
      "cell_type": "code",
      "source": [
        "# Ordinal encodings\n",
        "quality_mapping = {'Ex': 5, 'Gd': 4, 'TA': 3, 'Fa': 2, 'Po': 1}\n",
        "basement_finish_mapping = {'GLQ': 6, 'ALQ': 5, 'BLQ': 4, 'Rec': 3, 'LwQ': 2, 'Unf': 1}\n",
        "\n",
        "ordinal_encodings = {\n",
        "    'ExterQual': quality_mapping,\n",
        "    'ExterCond': quality_mapping,\n",
        "    'BsmtQual': quality_mapping,\n",
        "    'BsmtCond': quality_mapping,\n",
        "    'HeatingQC': quality_mapping,\n",
        "    'KitchenQual': quality_mapping,\n",
        "    'FireplaceQu': quality_mapping,\n",
        "    'GarageQual': quality_mapping,\n",
        "    'GarageCond': quality_mapping,\n",
        "    'PoolQC': quality_mapping,\n",
        "    'BsmtFinType1': basement_finish_mapping,\n",
        "    'BsmtFinType2': basement_finish_mapping,\n",
        "    'LotShape': {'Reg': 0, 'IR1': 1, 'IR2': 2, 'IR3': 3},\n",
        "    'LandSlope': {'Gtl': 0, 'Mod': 1, 'Sev': 2},\n",
        "    'BsmtExposure': {'Gd': 4, 'Av': 3, 'Mn': 2, 'No': 1},\n",
        "    'CentralAir': {'Y': 1, 'N': 0},\n",
        "    'Functional': {'Typ': 7, 'Min1': 6, 'Min2': 5, 'Mod': 4, 'Maj1': 3, 'Maj2': 2, 'Sev': 1, 'Sal': 0},\n",
        "    'GarageFinish': {'Fin': 3, 'RFn': 2, 'Unf': 1},\n",
        "    'PavedDrive': {'Y': 2, 'P': 1, 'N': 0},\n",
        "    'Fence': {'GdPrv': 4, 'MnPrv': 3, 'GdWo': 2, 'MnWw': 1},\n",
        "    'Street': {'Pave': 1, 'Grvl': 0},\n",
        "    'Alley': {'Pave': 2, 'Grvl': 1},\n",
        "    'LandContour': {'Lvl': 3, 'Bnk': 2, 'HLS': 1, 'Low': 0},\n",
        "    'Utilities': {'AllPub': 3, 'NoSewr': 2, 'NoSeWa': 1, 'ELO': 0},\n",
        "}\n",
        "\n",
        "for feature, mapping in ordinal_encodings.items():\n",
        "    train[feature] = train[feature].map(mapping)\n",
        "    test[feature] = test[feature].map(mapping)"
      ],
      "metadata": {
        "execution": {
          "iopub.status.busy": "2023-09-20T01:26:56.373987Z",
          "iopub.execute_input": "2023-09-20T01:26:56.374515Z",
          "iopub.status.idle": "2023-09-20T01:26:56.428197Z",
          "shell.execute_reply.started": "2023-09-20T01:26:56.374478Z",
          "shell.execute_reply": "2023-09-20T01:26:56.426042Z"
        },
        "trusted": true,
        "id": "7I5fy37Syhjc"
      },
      "execution_count": 2,
      "outputs": []
    },
    {
      "cell_type": "code",
      "source": [
        "# Fill numeric NaN's\n",
        "numeric_features = [\n",
        "    'BsmtFinSF1',\n",
        "    'BsmtFinSF2',\n",
        "    'BsmtUnfSF',\n",
        "    'BsmtFullBath',\n",
        "    'BsmtHalfBath',\n",
        "    'TotalBsmtSF',\n",
        "    'GarageCars',\n",
        "    'GarageArea',\n",
        "    'GarageYrBlt',\n",
        "    'BsmtQual',\n",
        "    'BsmtCond',\n",
        "    'KitchenQual',\n",
        "    'FireplaceQu',\n",
        "    'GarageQual',\n",
        "    'GarageCond',\n",
        "    'PoolQC',\n",
        "    'BsmtFinType1',\n",
        "    'BsmtFinType2',\n",
        "    'BsmtExposure',\n",
        "    'GarageFinish',\n",
        "    'MasVnrArea',\n",
        "    'Alley',\n",
        "    'Fence',\n",
        "    'Utilities',\n",
        "    'Functional'\n",
        "]\n",
        "\n",
        "train[numeric_features] = train[numeric_features].fillna(0)\n",
        "test[numeric_features] = test[numeric_features].fillna(0)"
      ],
      "metadata": {
        "execution": {
          "iopub.status.busy": "2023-09-20T01:26:59.100419Z",
          "iopub.execute_input": "2023-09-20T01:26:59.100798Z",
          "iopub.status.idle": "2023-09-20T01:26:59.124154Z",
          "shell.execute_reply.started": "2023-09-20T01:26:59.100769Z",
          "shell.execute_reply": "2023-09-20T01:26:59.121976Z"
        },
        "trusted": true,
        "id": "F99upcDMyhjd"
      },
      "execution_count": 3,
      "outputs": []
    },
    {
      "cell_type": "code",
      "source": [
        "# Categorical NaN's\n",
        "replacement_values = {\n",
        "    'MiscFeature': 'NA',\n",
        "    'GarageType': 'NA',\n",
        "    'MasVnrType': 'None',\n",
        "    'Exterior1st': 'Other',\n",
        "    'Exterior2nd': 'Other',\n",
        "    'Electrical': 'Mix',\n",
        "    'SaleType': 'Oth'\n",
        "}\n",
        "\n",
        "train.fillna(replacement_values, inplace=True)\n",
        "test.fillna(replacement_values, inplace=True)"
      ],
      "metadata": {
        "execution": {
          "iopub.status.busy": "2023-09-20T01:27:02.411282Z",
          "iopub.execute_input": "2023-09-20T01:27:02.411630Z",
          "iopub.status.idle": "2023-09-20T01:27:02.425744Z",
          "shell.execute_reply.started": "2023-09-20T01:27:02.411603Z",
          "shell.execute_reply": "2023-09-20T01:27:02.424911Z"
        },
        "trusted": true,
        "id": "iv9RJJWYyhjd"
      },
      "execution_count": 4,
      "outputs": []
    },
    {
      "cell_type": "code",
      "source": [
        "# One Hot Encoding\n",
        "categorical_features = [\n",
        "    'MSSubClass',\n",
        "    'MSZoning',\n",
        "    'LotConfig',\n",
        "    'Neighborhood',\n",
        "    'Condition1',\n",
        "    'Condition2',\n",
        "    'BldgType',\n",
        "    'HouseStyle',\n",
        "    'RoofStyle',\n",
        "    'RoofMatl',\n",
        "    'Exterior1st',\n",
        "    'Exterior2nd',\n",
        "    'MasVnrType',\n",
        "    'Foundation',\n",
        "    'Heating',\n",
        "    'Electrical',\n",
        "    'GarageType',\n",
        "    'MiscFeature',\n",
        "    'SaleType',\n",
        "    'SaleCondition'\n",
        "]\n",
        "\n",
        "train[categorical_features] = train[categorical_features].astype(\"category\")\n",
        "test[categorical_features] = test[categorical_features].astype(\"category\")"
      ],
      "metadata": {
        "id": "Oirq5LtqKBwy"
      },
      "execution_count": 5,
      "outputs": []
    },
    {
      "cell_type": "code",
      "source": [
        "# Misc data cleaning\n",
        "mszoning_mode = train['MSZoning'].mode().iloc[0]\n",
        "train['MSZoning'].fillna(mszoning_mode, inplace=True)\n",
        "test['MSZoning'].fillna(mszoning_mode, inplace=True)\n",
        "\n",
        "train['YearRemodAdd'] = train.apply(lambda row: 0 if row['YearRemodAdd'] == row['YearBuilt'] else row['YearRemodAdd'], axis=1)\n",
        "test['YearRemodAdd'] = test.apply(lambda row: 0 if row['YearRemodAdd'] == row['YearBuilt'] else row['YearRemodAdd'], axis=1)\n",
        "\n",
        "test.loc[test[\"GarageYrBlt\"] == 2207, \"GarageYrBlt\"] = 2007"
      ],
      "metadata": {
        "execution": {
          "iopub.status.busy": "2023-09-20T01:27:06.785198Z",
          "iopub.execute_input": "2023-09-20T01:27:06.786610Z",
          "iopub.status.idle": "2023-09-20T01:27:06.841337Z",
          "shell.execute_reply.started": "2023-09-20T01:27:06.786560Z",
          "shell.execute_reply": "2023-09-20T01:27:06.838903Z"
        },
        "trusted": true,
        "id": "2KpetcELyhjd"
      },
      "execution_count": 6,
      "outputs": []
    },
    {
      "cell_type": "markdown",
      "source": [
        "# Feature Engineering"
      ],
      "metadata": {
        "id": "ol7qfeSVyhjd"
      }
    },
    {
      "cell_type": "code",
      "source": [
        "# MSSubClass\n",
        "mapping = {\n",
        "    20: 1,\n",
        "    30: 1,\n",
        "    40: 1.15,\n",
        "    45: 1.25,\n",
        "    50: 1.5,\n",
        "    60: 2,\n",
        "    70: 2,\n",
        "    75: 2.5,\n",
        "}\n",
        "\n",
        "train['Stories'] = train['MSSubClass'].map(mapping)\n",
        "test['Stories'] = test['MSSubClass'].map(mapping)\n",
        "\n",
        "for index, row in train[train['Stories'].isna()].iterrows():\n",
        "    if row['2ndFlrSF'] > 0:\n",
        "        train.at[index, 'Stories'] = 2\n",
        "    else:\n",
        "        train.at[index, 'Stories'] = 1\n",
        "\n",
        "for index, row in test[test['Stories'].isna()].iterrows():\n",
        "    if row['2ndFlrSF'] > 0:\n",
        "        test.at[index, 'Stories'] = 2\n",
        "    else:\n",
        "        test.at[index, 'Stories'] = 1\n",
        "\n",
        "mapping = {\n",
        "    20: 'Normal',\n",
        "    30: 'Normal',\n",
        "    40: 'Normal',\n",
        "    45: 'Normal',\n",
        "    50: 'Normal',\n",
        "    60: 'Normal',\n",
        "    70: 'Normal',\n",
        "    75: 'Normal',\n",
        "    80: 'SPLIT',\n",
        "    85: 'SPLIT',\n",
        "    90: 'DUPLEX',\n",
        "    120: 'PUD',\n",
        "    150: 'PUD',\n",
        "    160: 'PUD',\n",
        "    180: 'PUD',\n",
        "    190: '2 Family Conversion'\n",
        "}\n",
        "\n",
        "train['MSSubClass'] = train['MSSubClass'].map(mapping).fillna(train['MSSubClass'])\n",
        "test['MSSubClass'] = test['MSSubClass'].map(mapping).fillna(test['MSSubClass'])\n",
        "\n",
        "train['MSSubClass'] = train['MSSubClass'].astype('category')\n",
        "test['MSSubClass'] = test['MSSubClass'].astype('category')"
      ],
      "metadata": {
        "execution": {
          "iopub.status.busy": "2023-09-20T01:27:48.525730Z",
          "iopub.execute_input": "2023-09-20T01:27:48.526246Z",
          "iopub.status.idle": "2023-09-20T01:27:48.615067Z",
          "shell.execute_reply.started": "2023-09-20T01:27:48.526207Z",
          "shell.execute_reply": "2023-09-20T01:27:48.612888Z"
        },
        "trusted": true,
        "id": "al3gShb3yhje"
      },
      "execution_count": 7,
      "outputs": []
    },
    {
      "cell_type": "code",
      "source": [
        "# MSZoning\n",
        "train['MSZoning'] = train['MSZoning'].replace({'RH': 'Residential',\n",
        "                                         'RL': 'Residential',\n",
        "                                         'RP': 'Residential',\n",
        "                                         'RM': 'Residential'})\n",
        "\n",
        "# Create the 'residential' column with ordinal encoding\n",
        "train['residential'] = train['MSZoning'].map({'RH': 3,\n",
        "                                        'RM': 2,\n",
        "                                        'RL': 1,\n",
        "                                        'RP': 1}).fillna(0).astype(int)\n",
        "\n",
        "test['MSZoning'] = test['MSZoning'].replace({'RH': 'Residential',\n",
        "                                         'RL': 'Residential',\n",
        "                                         'RP': 'Residential',\n",
        "                                         'RM': 'Residential'})\n",
        "\n",
        "# Create the 'residential' column with ordinal encoding\n",
        "test['residential'] = test['MSZoning'].map({'RH': 3,\n",
        "                                        'RM': 2,\n",
        "                                        'RL': 1,\n",
        "                                        'RP': 1}).fillna(0).astype(int)\n",
        "\n",
        "train['MSZoning'] = train['MSZoning'].astype('category')\n",
        "test['MSZoning'] = test['MSZoning'].astype('category')"
      ],
      "metadata": {
        "execution": {
          "iopub.status.busy": "2023-09-20T01:28:25.005197Z",
          "iopub.execute_input": "2023-09-20T01:28:25.005596Z",
          "iopub.status.idle": "2023-09-20T01:28:25.031740Z",
          "shell.execute_reply.started": "2023-09-20T01:28:25.005565Z",
          "shell.execute_reply": "2023-09-20T01:28:25.028387Z"
        },
        "trusted": true,
        "id": "Gxp8NPf8yhje"
      },
      "execution_count": 8,
      "outputs": []
    },
    {
      "cell_type": "code",
      "source": [
        "# Lot Frontage\n",
        "mean = train.groupby('LotConfig')['LotFrontage'].transform('mean')\n",
        "train['LotFrontage'] = train['LotFrontage'].fillna(mean)\n",
        "test['LotFrontage'] = test['LotFrontage'].fillna(mean)\n",
        "\n",
        "# Step b: Create a mapping for the number of sides based on LotConfig\n",
        "mapping = {\n",
        "    'Inside': 1,\n",
        "    'Corner': 2,\n",
        "    'CulDSac': 1,\n",
        "    'FR2': 2,\n",
        "    'FR3': 3\n",
        "}\n",
        "train['Sides'] = train['LotConfig'].map(mapping)\n",
        "test['Sides'] = test['LotConfig'].map(mapping)\n",
        "train['LotFrontagePerSide'] = train['LotFrontage'] / train['Sides']\n",
        "test['LotFrontagePerSide'] = test['LotFrontage'] / train['Sides']"
      ],
      "metadata": {
        "execution": {
          "iopub.status.busy": "2023-09-20T01:43:53.540034Z",
          "iopub.execute_input": "2023-09-20T01:43:53.540477Z",
          "iopub.status.idle": "2023-09-20T01:43:53.552321Z",
          "shell.execute_reply.started": "2023-09-20T01:43:53.540449Z",
          "shell.execute_reply": "2023-09-20T01:43:53.551056Z"
        },
        "trusted": true,
        "id": "LUxjmJ-Eyhje"
      },
      "execution_count": 9,
      "outputs": []
    },
    {
      "cell_type": "code",
      "source": [
        "# Drop features\n",
        "features = [\n",
        "    'YrSold',\n",
        "    'MoSold',\n",
        "]\n",
        "\n",
        "train = train.drop(features, axis=1)\n",
        "test = test.drop(features, axis=1)"
      ],
      "metadata": {
        "trusted": true,
        "id": "NMQvLzq0yhje"
      },
      "execution_count": 10,
      "outputs": []
    },
    {
      "cell_type": "code",
      "source": [
        "# New Features\n",
        "train[\"HasPool\"] = train[\"PoolArea\"].apply(lambda x: 1 if x > 0 else 0)\n",
        "train[\"PoolArea_x_QC\"] = train[\"PoolArea\"] * train[\"PoolQC\"]\n",
        "\n",
        "test[\"HasPool\"] = test[\"PoolArea\"].apply(lambda x: 1 if x > 0 else 0)\n",
        "test[\"PoolArea_x_QC\"] = test[\"PoolArea\"] * train[\"PoolQC\"]\n",
        "\n",
        "train[\"HasThreeSeasonPorch\"] = train[\"3SsnPorch\"].apply(lambda x: 1 if x > 0 else 0)\n",
        "test[\"HasThreeSeasonPorch\"] = test[\"3SsnPorch\"].apply(lambda x: 1 if x > 0 else 0)"
      ],
      "metadata": {
        "id": "bTM21lN2yhje"
      },
      "execution_count": 11,
      "outputs": []
    },
    {
      "cell_type": "code",
      "source": [
        "train.to_csv('train_transformed.csv', index=False)\n",
        "test.to_csv('test_transformed.csv', index=False)"
      ],
      "metadata": {
        "id": "_Vx609deI8xl"
      },
      "execution_count": 16,
      "outputs": []
    }
  ]
}